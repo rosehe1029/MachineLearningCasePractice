{
 "cells": [
  {
   "cell_type": "code",
   "execution_count": 58,
   "metadata": {},
   "outputs": [],
   "source": [
    "#导入数据及相关包\n",
    "import pandas as pd #导入pandas\n",
    "import numpy as np  \n",
    "import seaborn as sns\n",
    "import matplotlib.pyplot as plt\n",
    "%matplotlib inline\n",
    "from statsmodels.formula.api import ols #导入经典线性模型包\n",
    "from sklearn.linear_model import LinearRegression\n",
    "#导入文件\n",
    "red=pd.read_csv('./redbook/week2.redbook.csv')"
   ]
  },
  {
   "cell_type": "code",
   "execution_count": 59,
   "metadata": {},
   "outputs": [
    {
     "data": {
      "text/html": [
       "<div>\n",
       "<style scoped>\n",
       "    .dataframe tbody tr th:only-of-type {\n",
       "        vertical-align: middle;\n",
       "    }\n",
       "\n",
       "    .dataframe tbody tr th {\n",
       "        vertical-align: top;\n",
       "    }\n",
       "\n",
       "    .dataframe thead th {\n",
       "        text-align: right;\n",
       "    }\n",
       "</style>\n",
       "<table border=\"1\" class=\"dataframe\">\n",
       "  <thead>\n",
       "    <tr style=\"text-align: right;\">\n",
       "      <th></th>\n",
       "      <th>revenue</th>\n",
       "      <th>gender</th>\n",
       "      <th>age</th>\n",
       "      <th>engaged_last_30</th>\n",
       "      <th>lifecycle</th>\n",
       "      <th>days_since_last_order</th>\n",
       "      <th>previous_order_amount</th>\n",
       "      <th>3rd_party_stores</th>\n",
       "    </tr>\n",
       "  </thead>\n",
       "  <tbody>\n",
       "    <tr>\n",
       "      <th>0</th>\n",
       "      <td>72.98</td>\n",
       "      <td>1.0</td>\n",
       "      <td>59.0</td>\n",
       "      <td>0.0</td>\n",
       "      <td>B</td>\n",
       "      <td>4.26</td>\n",
       "      <td>2343.870</td>\n",
       "      <td>0</td>\n",
       "    </tr>\n",
       "    <tr>\n",
       "      <th>1</th>\n",
       "      <td>200.99</td>\n",
       "      <td>1.0</td>\n",
       "      <td>51.0</td>\n",
       "      <td>0.0</td>\n",
       "      <td>A</td>\n",
       "      <td>0.94</td>\n",
       "      <td>8539.872</td>\n",
       "      <td>0</td>\n",
       "    </tr>\n",
       "    <tr>\n",
       "      <th>2</th>\n",
       "      <td>69.98</td>\n",
       "      <td>1.0</td>\n",
       "      <td>79.0</td>\n",
       "      <td>0.0</td>\n",
       "      <td>C</td>\n",
       "      <td>4.29</td>\n",
       "      <td>1687.646</td>\n",
       "      <td>1</td>\n",
       "    </tr>\n",
       "    <tr>\n",
       "      <th>3</th>\n",
       "      <td>649.99</td>\n",
       "      <td>NaN</td>\n",
       "      <td>NaN</td>\n",
       "      <td>NaN</td>\n",
       "      <td>C</td>\n",
       "      <td>14.90</td>\n",
       "      <td>3498.846</td>\n",
       "      <td>0</td>\n",
       "    </tr>\n",
       "    <tr>\n",
       "      <th>4</th>\n",
       "      <td>83.59</td>\n",
       "      <td>NaN</td>\n",
       "      <td>NaN</td>\n",
       "      <td>NaN</td>\n",
       "      <td>C</td>\n",
       "      <td>21.13</td>\n",
       "      <td>3968.490</td>\n",
       "      <td>4</td>\n",
       "    </tr>\n",
       "  </tbody>\n",
       "</table>\n",
       "</div>"
      ],
      "text/plain": [
       "   revenue  gender   age  engaged_last_30 lifecycle   days_since_last_order   \\\n",
       "0    72.98     1.0  59.0              0.0         B                     4.26   \n",
       "1   200.99     1.0  51.0              0.0         A                     0.94   \n",
       "2    69.98     1.0  79.0              0.0         C                     4.29   \n",
       "3   649.99     NaN   NaN              NaN         C                    14.90   \n",
       "4    83.59     NaN   NaN              NaN         C                    21.13   \n",
       "\n",
       "   previous_order_amount  3rd_party_stores  \n",
       "0               2343.870                 0  \n",
       "1               8539.872                 0  \n",
       "2               1687.646                 1  \n",
       "3               3498.846                 0  \n",
       "4               3968.490                 4  "
      ]
     },
     "execution_count": 59,
     "metadata": {},
     "output_type": "execute_result"
    }
   ],
   "source": [
    "red.head(5)"
   ]
  },
  {
   "cell_type": "code",
   "execution_count": 80,
   "metadata": {},
   "outputs": [
    {
     "name": "stdout",
     "output_type": "stream",
     "text": [
      "<class 'pandas.core.frame.DataFrame'>\n",
      "RangeIndex: 29452 entries, 0 to 29451\n",
      "Data columns (total 8 columns):\n",
      " #   Column                   Non-Null Count  Dtype  \n",
      "---  ------                   --------------  -----  \n",
      " 0   revenue                  29452 non-null  float64\n",
      " 1   gender                   29452 non-null  object \n",
      " 2   age                      29452 non-null  float64\n",
      " 3   engaged_last_30          29452 non-null  object \n",
      " 4   lifecycle                29452 non-null  object \n",
      " 5    days_since_last_order   29452 non-null  float64\n",
      " 6   previous_order_amount    29452 non-null  float64\n",
      " 7   3rd_party_stores         29452 non-null  int64  \n",
      "dtypes: float64(4), int64(1), object(3)\n",
      "memory usage: 1.8+ MB\n"
     ]
    },
    {
     "data": {
      "text/plain": [
       "'\\n结果显示共有29452行数据，其中gender、age、engaged_last_30三列有缺失值，需要对其进行数据处理\\n或者用下列代码统计缺失值个数\\n'"
      ]
     },
     "execution_count": 80,
     "metadata": {},
     "output_type": "execute_result"
    }
   ],
   "source": [
    "red.info()\n",
    "'''\n",
    "结果显示共有29452行数据，其中gender、age、engaged_last_30三列有缺失值，需要对其进行数据处理\n",
    "或者用下列代码统计缺失值个数\n",
    "'''"
   ]
  },
  {
   "cell_type": "code",
   "execution_count": 79,
   "metadata": {},
   "outputs": [
    {
     "data": {
      "text/plain": [
       "'\\n指标解释 \\nrevenue ：用户的下单购买金额\\n3rd_party_stores： 用户过往在app中从第三方商家购买的数量，0表示购买的自营产品\\ngender：男1 女0 空缺unkown \\nage :年龄 空缺unkown \\nengaged_last_30:最近30天在app上有参与重点活动 \\nlifecycle ：生命周期A：注册6个月内  \\nB：一年内 \\nC：两年内  \\ndays_since_last_order 最近一次下单距今的天数（小于1表示当天有下单）\\nprevious_order_amount 累计的用户购买金额  \\n'"
      ]
     },
     "execution_count": 79,
     "metadata": {},
     "output_type": "execute_result"
    }
   ],
   "source": [
    "'''\n",
    "指标解释 \n",
    "revenue ：用户的下单购买金额\n",
    "3rd_party_stores： 用户过往在app中从第三方商家购买的数量，0表示购买的自营产品\n",
    "gender：男1 女0 空缺unkown \n",
    "age :年龄 空缺unkown \n",
    "engaged_last_30:最近30天在app上有参与重点活动 \n",
    "lifecycle ：生命周期A：注册6个月内  \n",
    "B：一年内 \n",
    "C：两年内  \n",
    "days_since_last_order 最近一次下单距今的天数（小于1表示当天有下单）\n",
    "previous_order_amount 累计的用户购买金额  \n",
    "'''"
   ]
  },
  {
   "cell_type": "code",
   "execution_count": 81,
   "metadata": {},
   "outputs": [
    {
     "data": {
      "text/plain": [
       "revenue                    0\n",
       "gender                     0\n",
       "age                        0\n",
       "engaged_last_30            0\n",
       "lifecycle                  0\n",
       " days_since_last_order     0\n",
       "previous_order_amount      0\n",
       "3rd_party_stores           0\n",
       "dtype: int64"
      ]
     },
     "execution_count": 81,
     "metadata": {},
     "output_type": "execute_result"
    }
   ],
   "source": [
    "red.isnull().sum()\n",
    "#离散程度描述"
   ]
  },
  {
   "cell_type": "code",
   "execution_count": 62,
   "metadata": {},
   "outputs": [
    {
     "data": {
      "text/html": [
       "<div>\n",
       "<style scoped>\n",
       "    .dataframe tbody tr th:only-of-type {\n",
       "        vertical-align: middle;\n",
       "    }\n",
       "\n",
       "    .dataframe tbody tr th {\n",
       "        vertical-align: top;\n",
       "    }\n",
       "\n",
       "    .dataframe thead th {\n",
       "        text-align: right;\n",
       "    }\n",
       "</style>\n",
       "<table border=\"1\" class=\"dataframe\">\n",
       "  <thead>\n",
       "    <tr style=\"text-align: right;\">\n",
       "      <th></th>\n",
       "      <th>revenue</th>\n",
       "      <th>gender</th>\n",
       "      <th>age</th>\n",
       "      <th>engaged_last_30</th>\n",
       "      <th>days_since_last_order</th>\n",
       "      <th>previous_order_amount</th>\n",
       "      <th>3rd_party_stores</th>\n",
       "    </tr>\n",
       "  </thead>\n",
       "  <tbody>\n",
       "    <tr>\n",
       "      <th>count</th>\n",
       "      <td>29452.000000</td>\n",
       "      <td>17723.000000</td>\n",
       "      <td>16716.000000</td>\n",
       "      <td>17723.000000</td>\n",
       "      <td>29452.000000</td>\n",
       "      <td>29452.000000</td>\n",
       "      <td>29452.000000</td>\n",
       "    </tr>\n",
       "    <tr>\n",
       "      <th>mean</th>\n",
       "      <td>398.288037</td>\n",
       "      <td>0.950742</td>\n",
       "      <td>60.397404</td>\n",
       "      <td>0.073069</td>\n",
       "      <td>7.711348</td>\n",
       "      <td>2348.904830</td>\n",
       "      <td>2.286059</td>\n",
       "    </tr>\n",
       "    <tr>\n",
       "      <th>std</th>\n",
       "      <td>960.251728</td>\n",
       "      <td>0.216412</td>\n",
       "      <td>14.823026</td>\n",
       "      <td>0.260257</td>\n",
       "      <td>6.489289</td>\n",
       "      <td>2379.774213</td>\n",
       "      <td>3.538219</td>\n",
       "    </tr>\n",
       "    <tr>\n",
       "      <th>min</th>\n",
       "      <td>0.020000</td>\n",
       "      <td>0.000000</td>\n",
       "      <td>18.000000</td>\n",
       "      <td>0.000000</td>\n",
       "      <td>0.130000</td>\n",
       "      <td>0.000000</td>\n",
       "      <td>0.000000</td>\n",
       "    </tr>\n",
       "    <tr>\n",
       "      <th>25%</th>\n",
       "      <td>74.970000</td>\n",
       "      <td>1.000000</td>\n",
       "      <td>50.000000</td>\n",
       "      <td>0.000000</td>\n",
       "      <td>2.190000</td>\n",
       "      <td>773.506250</td>\n",
       "      <td>0.000000</td>\n",
       "    </tr>\n",
       "    <tr>\n",
       "      <th>50%</th>\n",
       "      <td>175.980000</td>\n",
       "      <td>1.000000</td>\n",
       "      <td>60.000000</td>\n",
       "      <td>0.000000</td>\n",
       "      <td>5.970000</td>\n",
       "      <td>1655.980000</td>\n",
       "      <td>0.000000</td>\n",
       "    </tr>\n",
       "    <tr>\n",
       "      <th>75%</th>\n",
       "      <td>499.990000</td>\n",
       "      <td>1.000000</td>\n",
       "      <td>70.000000</td>\n",
       "      <td>0.000000</td>\n",
       "      <td>11.740000</td>\n",
       "      <td>3096.766500</td>\n",
       "      <td>3.000000</td>\n",
       "    </tr>\n",
       "    <tr>\n",
       "      <th>max</th>\n",
       "      <td>103466.100000</td>\n",
       "      <td>1.000000</td>\n",
       "      <td>99.000000</td>\n",
       "      <td>1.000000</td>\n",
       "      <td>23.710000</td>\n",
       "      <td>11597.900000</td>\n",
       "      <td>10.000000</td>\n",
       "    </tr>\n",
       "  </tbody>\n",
       "</table>\n",
       "</div>"
      ],
      "text/plain": [
       "             revenue        gender           age  engaged_last_30  \\\n",
       "count   29452.000000  17723.000000  16716.000000     17723.000000   \n",
       "mean      398.288037      0.950742     60.397404         0.073069   \n",
       "std       960.251728      0.216412     14.823026         0.260257   \n",
       "min         0.020000      0.000000     18.000000         0.000000   \n",
       "25%        74.970000      1.000000     50.000000         0.000000   \n",
       "50%       175.980000      1.000000     60.000000         0.000000   \n",
       "75%       499.990000      1.000000     70.000000         0.000000   \n",
       "max    103466.100000      1.000000     99.000000         1.000000   \n",
       "\n",
       "        days_since_last_order   previous_order_amount  3rd_party_stores  \n",
       "count             29452.000000           29452.000000      29452.000000  \n",
       "mean                  7.711348            2348.904830          2.286059  \n",
       "std                   6.489289            2379.774213          3.538219  \n",
       "min                   0.130000               0.000000          0.000000  \n",
       "25%                   2.190000             773.506250          0.000000  \n",
       "50%                   5.970000            1655.980000          0.000000  \n",
       "75%                  11.740000            3096.766500          3.000000  \n",
       "max                  23.710000           11597.900000         10.000000  "
      ]
     },
     "execution_count": 62,
     "metadata": {},
     "output_type": "execute_result"
    }
   ],
   "source": [
    "red.describe()"
   ]
  },
  {
   "cell_type": "code",
   "execution_count": 82,
   "metadata": {},
   "outputs": [
    {
     "data": {
      "text/html": [
       "<div>\n",
       "<style scoped>\n",
       "    .dataframe tbody tr th:only-of-type {\n",
       "        vertical-align: middle;\n",
       "    }\n",
       "\n",
       "    .dataframe tbody tr th {\n",
       "        vertical-align: top;\n",
       "    }\n",
       "\n",
       "    .dataframe thead th {\n",
       "        text-align: right;\n",
       "    }\n",
       "</style>\n",
       "<table border=\"1\" class=\"dataframe\">\n",
       "  <thead>\n",
       "    <tr style=\"text-align: right;\">\n",
       "      <th></th>\n",
       "      <th>revenue</th>\n",
       "      <th>age</th>\n",
       "      <th>days_since_last_order</th>\n",
       "      <th>previous_order_amount</th>\n",
       "      <th>3rd_party_stores</th>\n",
       "      <th>gender_0.0</th>\n",
       "      <th>gender_1.0</th>\n",
       "      <th>gender_Unknown</th>\n",
       "      <th>engaged_last_30_0.0</th>\n",
       "      <th>engaged_last_30_1.0</th>\n",
       "      <th>engaged_last_30_unknown</th>\n",
       "      <th>lifecycle_A</th>\n",
       "      <th>lifecycle_B</th>\n",
       "      <th>lifecycle_C</th>\n",
       "    </tr>\n",
       "  </thead>\n",
       "  <tbody>\n",
       "    <tr>\n",
       "      <th>0</th>\n",
       "      <td>72.98</td>\n",
       "      <td>59.0</td>\n",
       "      <td>4.26</td>\n",
       "      <td>2343.870</td>\n",
       "      <td>0</td>\n",
       "      <td>0</td>\n",
       "      <td>1</td>\n",
       "      <td>0</td>\n",
       "      <td>1</td>\n",
       "      <td>0</td>\n",
       "      <td>0</td>\n",
       "      <td>0</td>\n",
       "      <td>1</td>\n",
       "      <td>0</td>\n",
       "    </tr>\n",
       "    <tr>\n",
       "      <th>1</th>\n",
       "      <td>200.99</td>\n",
       "      <td>51.0</td>\n",
       "      <td>0.94</td>\n",
       "      <td>8539.872</td>\n",
       "      <td>0</td>\n",
       "      <td>0</td>\n",
       "      <td>1</td>\n",
       "      <td>0</td>\n",
       "      <td>1</td>\n",
       "      <td>0</td>\n",
       "      <td>0</td>\n",
       "      <td>1</td>\n",
       "      <td>0</td>\n",
       "      <td>0</td>\n",
       "    </tr>\n",
       "    <tr>\n",
       "      <th>2</th>\n",
       "      <td>69.98</td>\n",
       "      <td>79.0</td>\n",
       "      <td>4.29</td>\n",
       "      <td>1687.646</td>\n",
       "      <td>1</td>\n",
       "      <td>0</td>\n",
       "      <td>1</td>\n",
       "      <td>0</td>\n",
       "      <td>1</td>\n",
       "      <td>0</td>\n",
       "      <td>0</td>\n",
       "      <td>0</td>\n",
       "      <td>0</td>\n",
       "      <td>1</td>\n",
       "    </tr>\n",
       "    <tr>\n",
       "      <th>3</th>\n",
       "      <td>649.99</td>\n",
       "      <td>60.0</td>\n",
       "      <td>14.90</td>\n",
       "      <td>3498.846</td>\n",
       "      <td>0</td>\n",
       "      <td>0</td>\n",
       "      <td>0</td>\n",
       "      <td>1</td>\n",
       "      <td>0</td>\n",
       "      <td>0</td>\n",
       "      <td>1</td>\n",
       "      <td>0</td>\n",
       "      <td>0</td>\n",
       "      <td>1</td>\n",
       "    </tr>\n",
       "    <tr>\n",
       "      <th>4</th>\n",
       "      <td>83.59</td>\n",
       "      <td>60.0</td>\n",
       "      <td>21.13</td>\n",
       "      <td>3968.490</td>\n",
       "      <td>4</td>\n",
       "      <td>0</td>\n",
       "      <td>0</td>\n",
       "      <td>1</td>\n",
       "      <td>0</td>\n",
       "      <td>0</td>\n",
       "      <td>1</td>\n",
       "      <td>0</td>\n",
       "      <td>0</td>\n",
       "      <td>1</td>\n",
       "    </tr>\n",
       "  </tbody>\n",
       "</table>\n",
       "</div>"
      ],
      "text/plain": [
       "   revenue   age   days_since_last_order   previous_order_amount  \\\n",
       "0    72.98  59.0                     4.26               2343.870   \n",
       "1   200.99  51.0                     0.94               8539.872   \n",
       "2    69.98  79.0                     4.29               1687.646   \n",
       "3   649.99  60.0                    14.90               3498.846   \n",
       "4    83.59  60.0                    21.13               3968.490   \n",
       "\n",
       "   3rd_party_stores  gender_0.0  gender_1.0  gender_Unknown  \\\n",
       "0                 0           0           1               0   \n",
       "1                 0           0           1               0   \n",
       "2                 1           0           1               0   \n",
       "3                 0           0           0               1   \n",
       "4                 4           0           0               1   \n",
       "\n",
       "   engaged_last_30_0.0  engaged_last_30_1.0  engaged_last_30_unknown  \\\n",
       "0                    1                    0                        0   \n",
       "1                    1                    0                        0   \n",
       "2                    1                    0                        0   \n",
       "3                    0                    0                        1   \n",
       "4                    0                    0                        1   \n",
       "\n",
       "   lifecycle_A  lifecycle_B  lifecycle_C  \n",
       "0            0            1            0  \n",
       "1            1            0            0  \n",
       "2            0            0            1  \n",
       "3            0            0            1  \n",
       "4            0            0            1  "
      ]
     },
     "execution_count": 82,
     "metadata": {},
     "output_type": "execute_result"
    }
   ],
   "source": [
    "'''\n",
    "缺失值处理\n",
    "对于连续变量，可以用均值、中位数或者根据其他数据模型填充；\n",
    "对于类别变量，则可以把变量拆解为哑变量，再删除重复或没有意义的变量\n",
    "将age选择按中位数填充\n",
    "将性别的缺失值先标记为unknown，再变为哑变量\n",
    "将engaged缺失值替换为unknown，再变为哑变量\n",
    "'''\n",
    "red['age']=red['age'].fillna(red['age'].median())#将age的缺失值用中位数填充\n",
    "red['gender']=red['gender'].fillna('Unknown')#用unknown填充性别缺失值\n",
    "red['engaged_last_30']=red['engaged_last_30'].fillna('unknown')\n",
    "red1=pd.get_dummies(red)#生成哑变量，python会将类别变量转换为哑变量\n",
    "red1.head()#查看前五行"
   ]
  },
  {
   "cell_type": "code",
   "execution_count": 64,
   "metadata": {},
   "outputs": [
    {
     "data": {
      "text/html": [
       "<div>\n",
       "<style scoped>\n",
       "    .dataframe tbody tr th:only-of-type {\n",
       "        vertical-align: middle;\n",
       "    }\n",
       "\n",
       "    .dataframe tbody tr th {\n",
       "        vertical-align: top;\n",
       "    }\n",
       "\n",
       "    .dataframe thead th {\n",
       "        text-align: right;\n",
       "    }\n",
       "</style>\n",
       "<table border=\"1\" class=\"dataframe\">\n",
       "  <thead>\n",
       "    <tr style=\"text-align: right;\">\n",
       "      <th></th>\n",
       "      <th>revenue</th>\n",
       "      <th>age</th>\n",
       "      <th>days_since_last_order</th>\n",
       "      <th>previous_order_amount</th>\n",
       "      <th>3rd_party_stores</th>\n",
       "      <th>gender_0.0</th>\n",
       "      <th>gender_1.0</th>\n",
       "      <th>gender_Unknown</th>\n",
       "      <th>engaged_last_30_0.0</th>\n",
       "      <th>engaged_last_30_1.0</th>\n",
       "      <th>engaged_last_30_unknown</th>\n",
       "      <th>lifecycle_A</th>\n",
       "      <th>lifecycle_B</th>\n",
       "      <th>lifecycle_C</th>\n",
       "    </tr>\n",
       "  </thead>\n",
       "  <tbody>\n",
       "    <tr>\n",
       "      <th>0</th>\n",
       "      <td>72.98</td>\n",
       "      <td>59.0</td>\n",
       "      <td>4.26</td>\n",
       "      <td>2343.870</td>\n",
       "      <td>0</td>\n",
       "      <td>0</td>\n",
       "      <td>1</td>\n",
       "      <td>0</td>\n",
       "      <td>1</td>\n",
       "      <td>0</td>\n",
       "      <td>0</td>\n",
       "      <td>0</td>\n",
       "      <td>1</td>\n",
       "      <td>0</td>\n",
       "    </tr>\n",
       "    <tr>\n",
       "      <th>1</th>\n",
       "      <td>200.99</td>\n",
       "      <td>51.0</td>\n",
       "      <td>0.94</td>\n",
       "      <td>8539.872</td>\n",
       "      <td>0</td>\n",
       "      <td>0</td>\n",
       "      <td>1</td>\n",
       "      <td>0</td>\n",
       "      <td>1</td>\n",
       "      <td>0</td>\n",
       "      <td>0</td>\n",
       "      <td>1</td>\n",
       "      <td>0</td>\n",
       "      <td>0</td>\n",
       "    </tr>\n",
       "    <tr>\n",
       "      <th>2</th>\n",
       "      <td>69.98</td>\n",
       "      <td>79.0</td>\n",
       "      <td>4.29</td>\n",
       "      <td>1687.646</td>\n",
       "      <td>1</td>\n",
       "      <td>0</td>\n",
       "      <td>1</td>\n",
       "      <td>0</td>\n",
       "      <td>1</td>\n",
       "      <td>0</td>\n",
       "      <td>0</td>\n",
       "      <td>0</td>\n",
       "      <td>0</td>\n",
       "      <td>1</td>\n",
       "    </tr>\n",
       "    <tr>\n",
       "      <th>3</th>\n",
       "      <td>649.99</td>\n",
       "      <td>60.0</td>\n",
       "      <td>14.90</td>\n",
       "      <td>3498.846</td>\n",
       "      <td>0</td>\n",
       "      <td>0</td>\n",
       "      <td>0</td>\n",
       "      <td>1</td>\n",
       "      <td>0</td>\n",
       "      <td>0</td>\n",
       "      <td>1</td>\n",
       "      <td>0</td>\n",
       "      <td>0</td>\n",
       "      <td>1</td>\n",
       "    </tr>\n",
       "    <tr>\n",
       "      <th>4</th>\n",
       "      <td>83.59</td>\n",
       "      <td>60.0</td>\n",
       "      <td>21.13</td>\n",
       "      <td>3968.490</td>\n",
       "      <td>4</td>\n",
       "      <td>0</td>\n",
       "      <td>0</td>\n",
       "      <td>1</td>\n",
       "      <td>0</td>\n",
       "      <td>0</td>\n",
       "      <td>1</td>\n",
       "      <td>0</td>\n",
       "      <td>0</td>\n",
       "      <td>1</td>\n",
       "    </tr>\n",
       "  </tbody>\n",
       "</table>\n",
       "</div>"
      ],
      "text/plain": [
       "   revenue   age   days_since_last_order   previous_order_amount  \\\n",
       "0    72.98  59.0                     4.26               2343.870   \n",
       "1   200.99  51.0                     0.94               8539.872   \n",
       "2    69.98  79.0                     4.29               1687.646   \n",
       "3   649.99  60.0                    14.90               3498.846   \n",
       "4    83.59  60.0                    21.13               3968.490   \n",
       "\n",
       "   3rd_party_stores  gender_0.0  gender_1.0  gender_Unknown  \\\n",
       "0                 0           0           1               0   \n",
       "1                 0           0           1               0   \n",
       "2                 1           0           1               0   \n",
       "3                 0           0           0               1   \n",
       "4                 4           0           0               1   \n",
       "\n",
       "   engaged_last_30_0.0  engaged_last_30_1.0  engaged_last_30_unknown  \\\n",
       "0                    1                    0                        0   \n",
       "1                    1                    0                        0   \n",
       "2                    1                    0                        0   \n",
       "3                    0                    0                        1   \n",
       "4                    0                    0                        1   \n",
       "\n",
       "   lifecycle_A  lifecycle_B  lifecycle_C  \n",
       "0            0            1            0  \n",
       "1            1            0            0  \n",
       "2            0            0            1  \n",
       "3            0            0            1  \n",
       "4            0            0            1  "
      ]
     },
     "execution_count": 64,
     "metadata": {},
     "output_type": "execute_result"
    }
   ],
   "source": [
    "red['age']=red['age'].fillna(red['age'].median())#将age的缺失值用中位数填充\n",
    "red['gender']=red['gender'].fillna('Unknown')#用unknown填充性别缺失值\n",
    "red['engaged_last_30']=red['engaged_last_30'].fillna('unknown')\n",
    "red1=pd.get_dummies(red)#生成哑变量，python会将类别变量转换为哑变量\n",
    "red1.head()#查看前五行"
   ]
  },
  {
   "cell_type": "code",
   "execution_count": 83,
   "metadata": {},
   "outputs": [
    {
     "data": {
      "text/plain": [
       "<AxesSubplot:xlabel='age', ylabel='revenue'>"
      ]
     },
     "execution_count": 83,
     "metadata": {},
     "output_type": "execute_result"
    },
    {
     "data": {
      "image/png": "[encoded data removed]",
      "text/plain": [
       "<Figure size 640x480 with 1 Axes>"
      ]
     },
     "metadata": {},
     "output_type": "display_data"
    }
   ],
   "source": [
    "sns.lineplot(x='age',y='revenue',data=red)\n",
    "#可以看到在销售额在20~30岁之间最高，30岁以后销售额变得平稳一些。"
   ]
  },
  {
   "cell_type": "code",
   "execution_count": 66,
   "metadata": {},
   "outputs": [
    {
     "name": "stderr",
     "output_type": "stream",
     "text": [
      "d:\\anaconda\\lib\\site-packages\\seaborn\\_decorators.py:36: FutureWarning: Pass the following variables as keyword args: x, y, data. From version 0.12, the only valid positional argument will be `data`, and passing other arguments without an explicit keyword will result in an error or misinterpretation.\n",
      "  warnings.warn(\n"
     ]
    },
    {
     "data": {
      "text/plain": [
       "<AxesSubplot:xlabel='previous_order_amount', ylabel='revenue'>"
      ]
     },
     "execution_count": 66,
     "metadata": {},
     "output_type": "execute_result"
    },
    {
     "data": {
      "image/png": "[encoded data removed]",
      "text/plain": [
       "<Figure size 640x480 with 1 Axes>"
      ]
     },
     "metadata": {},
     "output_type": "display_data"
    }
   ],
   "source": [
    "sns.regplot('previous_order_amount','revenue',red)#线性关系可视化"
   ]
  },
  {
   "cell_type": "code",
   "execution_count": 67,
   "metadata": {},
   "outputs": [
    {
     "name": "stderr",
     "output_type": "stream",
     "text": [
      "d:\\anaconda\\lib\\site-packages\\seaborn\\_decorators.py:36: FutureWarning: Pass the following variables as keyword args: x, y, data. From version 0.12, the only valid positional argument will be `data`, and passing other arguments without an explicit keyword will result in an error or misinterpretation.\n",
      "  warnings.warn(\n"
     ]
    },
    {
     "data": {
      "text/plain": [
       "<AxesSubplot:xlabel='age', ylabel='revenue'>"
      ]
     },
     "execution_count": 67,
     "metadata": {},
     "output_type": "execute_result"
    },
    {
     "data": {
      "image/png": "[encoded data removed]",
      "text/plain": [
       "<Figure size 640x480 with 1 Axes>"
      ]
     },
     "metadata": {},
     "output_type": "display_data"
    }
   ],
   "source": [
    "sns.regplot('age','revenue',red)#年龄与销售额的线性关系"
   ]
  },
  {
   "cell_type": "code",
   "execution_count": 68,
   "metadata": {},
   "outputs": [
    {
     "data": {
      "text/html": [
       "<div>\n",
       "<style scoped>\n",
       "    .dataframe tbody tr th:only-of-type {\n",
       "        vertical-align: middle;\n",
       "    }\n",
       "\n",
       "    .dataframe tbody tr th {\n",
       "        vertical-align: top;\n",
       "    }\n",
       "\n",
       "    .dataframe thead th {\n",
       "        text-align: right;\n",
       "    }\n",
       "</style>\n",
       "<table border=\"1\" class=\"dataframe\">\n",
       "  <thead>\n",
       "    <tr style=\"text-align: right;\">\n",
       "      <th></th>\n",
       "      <th>count</th>\n",
       "      <th>mean</th>\n",
       "      <th>std</th>\n",
       "      <th>min</th>\n",
       "      <th>25%</th>\n",
       "      <th>50%</th>\n",
       "      <th>75%</th>\n",
       "      <th>max</th>\n",
       "    </tr>\n",
       "    <tr>\n",
       "      <th>revenue_level</th>\n",
       "      <th></th>\n",
       "      <th></th>\n",
       "      <th></th>\n",
       "      <th></th>\n",
       "      <th></th>\n",
       "      <th></th>\n",
       "      <th></th>\n",
       "      <th></th>\n",
       "    </tr>\n",
       "  </thead>\n",
       "  <tbody>\n",
       "    <tr>\n",
       "      <th>[0, 100)</th>\n",
       "      <td>9970.0</td>\n",
       "      <td>56.737771</td>\n",
       "      <td>24.530894</td>\n",
       "      <td>0.02</td>\n",
       "      <td>35.990</td>\n",
       "      <td>57.980</td>\n",
       "      <td>74.9900</td>\n",
       "      <td>99.99</td>\n",
       "    </tr>\n",
       "    <tr>\n",
       "      <th>[100, 1000)</th>\n",
       "      <td>16761.0</td>\n",
       "      <td>369.924863</td>\n",
       "      <td>242.519685</td>\n",
       "      <td>100.00</td>\n",
       "      <td>158.150</td>\n",
       "      <td>289.000</td>\n",
       "      <td>537.9900</td>\n",
       "      <td>999.99</td>\n",
       "    </tr>\n",
       "    <tr>\n",
       "      <th>[1000, 1200)</th>\n",
       "      <td>796.0</td>\n",
       "      <td>1098.275573</td>\n",
       "      <td>59.316398</td>\n",
       "      <td>1000.06</td>\n",
       "      <td>1049.000</td>\n",
       "      <td>1097.300</td>\n",
       "      <td>1149.6200</td>\n",
       "      <td>1199.99</td>\n",
       "    </tr>\n",
       "    <tr>\n",
       "      <th>[1200, 1500)</th>\n",
       "      <td>755.0</td>\n",
       "      <td>1341.604563</td>\n",
       "      <td>88.727190</td>\n",
       "      <td>1200.00</td>\n",
       "      <td>1266.985</td>\n",
       "      <td>1338.940</td>\n",
       "      <td>1415.9600</td>\n",
       "      <td>1499.99</td>\n",
       "    </tr>\n",
       "    <tr>\n",
       "      <th>[1500, 2000)</th>\n",
       "      <td>584.0</td>\n",
       "      <td>1713.847178</td>\n",
       "      <td>142.700321</td>\n",
       "      <td>1500.01</td>\n",
       "      <td>1594.795</td>\n",
       "      <td>1691.110</td>\n",
       "      <td>1827.6725</td>\n",
       "      <td>1999.95</td>\n",
       "    </tr>\n",
       "    <tr>\n",
       "      <th>[2000, 5000)</th>\n",
       "      <td>532.0</td>\n",
       "      <td>2707.051090</td>\n",
       "      <td>657.146959</td>\n",
       "      <td>2000.04</td>\n",
       "      <td>2221.240</td>\n",
       "      <td>2496.435</td>\n",
       "      <td>3015.7075</td>\n",
       "      <td>4970.42</td>\n",
       "    </tr>\n",
       "    <tr>\n",
       "      <th>[5000, 10000)</th>\n",
       "      <td>39.0</td>\n",
       "      <td>6485.890769</td>\n",
       "      <td>1196.145429</td>\n",
       "      <td>5031.49</td>\n",
       "      <td>5545.200</td>\n",
       "      <td>6301.930</td>\n",
       "      <td>7086.7800</td>\n",
       "      <td>9983.28</td>\n",
       "    </tr>\n",
       "    <tr>\n",
       "      <th>[10000, 20000)</th>\n",
       "      <td>8.0</td>\n",
       "      <td>12667.082500</td>\n",
       "      <td>2159.356141</td>\n",
       "      <td>10689.11</td>\n",
       "      <td>11256.630</td>\n",
       "      <td>11557.600</td>\n",
       "      <td>13775.4575</td>\n",
       "      <td>16500.00</td>\n",
       "    </tr>\n",
       "    <tr>\n",
       "      <th>[20000, 30000)</th>\n",
       "      <td>5.0</td>\n",
       "      <td>23272.766000</td>\n",
       "      <td>3425.434350</td>\n",
       "      <td>20588.97</td>\n",
       "      <td>21068.170</td>\n",
       "      <td>22214.920</td>\n",
       "      <td>23410.9700</td>\n",
       "      <td>29080.80</td>\n",
       "    </tr>\n",
       "  </tbody>\n",
       "</table>\n",
       "</div>"
      ],
      "text/plain": [
       "                  count          mean          std       min        25%  \\\n",
       "revenue_level                                                             \n",
       "[0, 100)         9970.0     56.737771    24.530894      0.02     35.990   \n",
       "[100, 1000)     16761.0    369.924863   242.519685    100.00    158.150   \n",
       "[1000, 1200)      796.0   1098.275573    59.316398   1000.06   1049.000   \n",
       "[1200, 1500)      755.0   1341.604563    88.727190   1200.00   1266.985   \n",
       "[1500, 2000)      584.0   1713.847178   142.700321   1500.01   1594.795   \n",
       "[2000, 5000)      532.0   2707.051090   657.146959   2000.04   2221.240   \n",
       "[5000, 10000)      39.0   6485.890769  1196.145429   5031.49   5545.200   \n",
       "[10000, 20000)      8.0  12667.082500  2159.356141  10689.11  11256.630   \n",
       "[20000, 30000)      5.0  23272.766000  3425.434350  20588.97  21068.170   \n",
       "\n",
       "                      50%         75%       max  \n",
       "revenue_level                                    \n",
       "[0, 100)           57.980     74.9900     99.99  \n",
       "[100, 1000)       289.000    537.9900    999.99  \n",
       "[1000, 1200)     1097.300   1149.6200   1199.99  \n",
       "[1200, 1500)     1338.940   1415.9600   1499.99  \n",
       "[1500, 2000)     1691.110   1827.6725   1999.95  \n",
       "[2000, 5000)     2496.435   3015.7075   4970.42  \n",
       "[5000, 10000)    6301.930   7086.7800   9983.28  \n",
       "[10000, 20000)  11557.600  13775.4575  16500.00  \n",
       "[20000, 30000)  22214.920  23410.9700  29080.80  "
      ]
     },
     "execution_count": 68,
     "metadata": {},
     "output_type": "execute_result"
    }
   ],
   "source": [
    "'''\n",
    "从上图看年龄、累计金额似乎不存在线性关系，\n",
    "但是仔细观察发现有些销售额太高导致关系无法显示，对销售额分区间看看销售额主要集中在哪。\n",
    "''' \n",
    "#将销售额分区间\n",
    "bins=[0,100,1000,1200,1500,2000,5000,10000,20000,30000]\n",
    "red1['revenue_level']=pd.cut(red1.revenue,bins,right=False)\n",
    "red1.groupby('revenue_level').revenue.describe()"
   ]
  },
  {
   "cell_type": "code",
   "execution_count": null,
   "metadata": {},
   "outputs": [],
   "source": [
    "#从数据结果上看，消费额在5000以上的数据就很少了，筛选出销售额在5000以下的数据，再次做出图形。此时可以看到累计销售额与最近一次销售额之间存在正相关关系。"
   ]
  },
  {
   "cell_type": "code",
   "execution_count": 69,
   "metadata": {},
   "outputs": [
    {
     "data": {
      "text/html": [
       "<div>\n",
       "<style scoped>\n",
       "    .dataframe tbody tr th:only-of-type {\n",
       "        vertical-align: middle;\n",
       "    }\n",
       "\n",
       "    .dataframe tbody tr th {\n",
       "        vertical-align: top;\n",
       "    }\n",
       "\n",
       "    .dataframe thead th {\n",
       "        text-align: right;\n",
       "    }\n",
       "</style>\n",
       "<table border=\"1\" class=\"dataframe\">\n",
       "  <thead>\n",
       "    <tr style=\"text-align: right;\">\n",
       "      <th></th>\n",
       "      <th>revenue</th>\n",
       "    </tr>\n",
       "  </thead>\n",
       "  <tbody>\n",
       "    <tr>\n",
       "      <th>revenue</th>\n",
       "      <td>1.000000</td>\n",
       "    </tr>\n",
       "    <tr>\n",
       "      <th>previous_order_amount</th>\n",
       "      <td>0.168540</td>\n",
       "    </tr>\n",
       "    <tr>\n",
       "      <th>engaged_last_30_1.0</th>\n",
       "      <td>0.038287</td>\n",
       "    </tr>\n",
       "    <tr>\n",
       "      <th>days_since_last_order</th>\n",
       "      <td>0.036654</td>\n",
       "    </tr>\n",
       "    <tr>\n",
       "      <th>gender_Unknown</th>\n",
       "      <td>0.017722</td>\n",
       "    </tr>\n",
       "    <tr>\n",
       "      <th>engaged_last_30_unknown</th>\n",
       "      <td>0.017722</td>\n",
       "    </tr>\n",
       "    <tr>\n",
       "      <th>lifecycle_A</th>\n",
       "      <td>0.013683</td>\n",
       "    </tr>\n",
       "    <tr>\n",
       "      <th>lifecycle_C</th>\n",
       "      <td>-0.002221</td>\n",
       "    </tr>\n",
       "    <tr>\n",
       "      <th>lifecycle_B</th>\n",
       "      <td>-0.008651</td>\n",
       "    </tr>\n",
       "    <tr>\n",
       "      <th>gender_1.0</th>\n",
       "      <td>-0.012422</td>\n",
       "    </tr>\n",
       "    <tr>\n",
       "      <th>gender_0.0</th>\n",
       "      <td>-0.014914</td>\n",
       "    </tr>\n",
       "    <tr>\n",
       "      <th>3rd_party_stores</th>\n",
       "      <td>-0.026398</td>\n",
       "    </tr>\n",
       "    <tr>\n",
       "      <th>engaged_last_30_0.0</th>\n",
       "      <td>-0.033274</td>\n",
       "    </tr>\n",
       "    <tr>\n",
       "      <th>age</th>\n",
       "      <td>-0.036281</td>\n",
       "    </tr>\n",
       "  </tbody>\n",
       "</table>\n",
       "</div>"
      ],
      "text/plain": [
       "                          revenue\n",
       "revenue                  1.000000\n",
       "previous_order_amount    0.168540\n",
       "engaged_last_30_1.0      0.038287\n",
       " days_since_last_order   0.036654\n",
       "gender_Unknown           0.017722\n",
       "engaged_last_30_unknown  0.017722\n",
       "lifecycle_A              0.013683\n",
       "lifecycle_C             -0.002221\n",
       "lifecycle_B             -0.008651\n",
       "gender_1.0              -0.012422\n",
       "gender_0.0              -0.014914\n",
       "3rd_party_stores        -0.026398\n",
       "engaged_last_30_0.0     -0.033274\n",
       "age                     -0.036281"
      ]
     },
     "execution_count": 69,
     "metadata": {},
     "output_type": "execute_result"
    }
   ],
   "source": [
    "red1.corr()[['revenue']].sort_values('revenue',ascending=False)\n",
    "#只选择revenue一列与其他变量的相关关系，并且降序排列"
   ]
  },
  {
   "cell_type": "code",
   "execution_count": 70,
   "metadata": {},
   "outputs": [
    {
     "data": {
      "text/plain": [
       "<AxesSubplot:>"
      ]
     },
     "execution_count": 70,
     "metadata": {},
     "output_type": "execute_result"
    },
    {
     "data": {
      "image/png": "[encoded data removed]",
      "text/plain": [
       "<Figure size 640x480 with 2 Axes>"
      ]
     },
     "metadata": {},
     "output_type": "display_data"
    }
   ],
   "source": [
    "#各变量与销售额的相关系都比较弱，相关关系最强\n",
    "# 的是previous_order_amount,其他变量与销售额几乎不存在相关性，选取前两个变量做热力图\n",
    "q=['revenue','previous_order_amount','engaged_last_30_1.0']\n",
    "sns.heatmap(red1[q].corr())"
   ]
  },
  {
   "cell_type": "code",
   "execution_count": 71,
   "metadata": {},
   "outputs": [
    {
     "data": {
      "text/plain": [
       "LinearRegression()"
      ]
     },
     "execution_count": 71,
     "metadata": {},
     "output_type": "execute_result"
    }
   ],
   "source": [
    "from sklearn.linear_model import LinearRegression\n",
    "model=LinearRegression()\n",
    "y=red1['revenue']\n",
    "x=red1[['previous_order_amount']]\n",
    "model.fit(x,y)#模型拟合"
   ]
  },
  {
   "cell_type": "code",
   "execution_count": 72,
   "metadata": {},
   "outputs": [
    {
     "data": {
      "text/plain": [
       "array([0.06800681])"
      ]
     },
     "execution_count": 72,
     "metadata": {},
     "output_type": "execute_result"
    }
   ],
   "source": [
    "model.coef_#查看系数估计值"
   ]
  },
  {
   "cell_type": "code",
   "execution_count": 73,
   "metadata": {},
   "outputs": [
    {
     "data": {
      "text/plain": [
       "238.54650492085563"
      ]
     },
     "execution_count": 73,
     "metadata": {},
     "output_type": "execute_result"
    }
   ],
   "source": [
    "model.intercept_#查看截距项"
   ]
  },
  {
   "cell_type": "code",
   "execution_count": 74,
   "metadata": {},
   "outputs": [
    {
     "name": "stdout",
     "output_type": "stream",
     "text": [
      "946.4990744073583\n",
      "356.9227080769087\n"
     ]
    },
    {
     "data": {
      "text/plain": [
       "329.7626459083234"
      ]
     },
     "execution_count": 74,
     "metadata": {},
     "output_type": "execute_result"
    }
   ],
   "source": [
    "#模型评分\n",
    "score=model.score(x,y)\n",
    "#计算y的预测值\n",
    "predictions=model.predict(x)\n",
    "#计算误差\n",
    "error=predictions-y\n",
    "#计算rmse（均方误差）\n",
    "rmse=(error**2).mean()**0.5\n",
    "#计算mae（平均绝对误差）\n",
    "mae=abs(error).mean()\n",
    "print(rmse)\n",
    "print(mae)\n",
    "487.72743388034957\n",
    "329.7626459083234\n"
   ]
  },
  {
   "cell_type": "code",
   "execution_count": 75,
   "metadata": {},
   "outputs": [
    {
     "name": "stdout",
     "output_type": "stream",
     "text": [
      "                            OLS Regression Results                            \n",
      "==============================================================================\n",
      "Dep. Variable:                      y   R-squared:                       0.028\n",
      "Model:                            OLS   Adj. R-squared:                  0.028\n",
      "Method:                 Least Squares   F-statistic:                     861.0\n",
      "Date:                Tue, 08 Nov 2022   Prob (F-statistic):          1.43e-186\n",
      "Time:                        10:19:15   Log-Likelihood:            -2.4362e+05\n",
      "No. Observations:               29452   AIC:                         4.872e+05\n",
      "Df Residuals:                   29450   BIC:                         4.873e+05\n",
      "Df Model:                           1                                         \n",
      "Covariance Type:            nonrobust                                         \n",
      "==============================================================================\n",
      "                 coef    std err          t      P>|t|      [0.025      0.975]\n",
      "------------------------------------------------------------------------------\n",
      "Intercept    238.5465      7.750     30.782      0.000     223.357     253.736\n",
      "x              0.0680      0.002     29.343      0.000       0.063       0.073\n",
      "==============================================================================\n",
      "Omnibus:                    96517.376   Durbin-Watson:                   1.968\n",
      "Prob(Omnibus):                  0.000   Jarque-Bera (JB):      34688559459.998\n",
      "Skew:                          55.810   Prob(JB):                         0.00\n",
      "Kurtosis:                    5318.518   Cond. No.                     4.70e+03\n",
      "==============================================================================\n",
      "\n",
      "Notes:\n",
      "[1] Standard Errors assume that the covariance matrix of the errors is correctly specified.\n",
      "[2] The condition number is large, 4.7e+03. This might indicate that there are\n",
      "strong multicollinearity or other numerical problems.\n"
     ]
    }
   ],
   "source": [
    "from statsmodels.formula.api import ols#可得到标准线性回归结果\n",
    "model=ols('y~x',red1).fit()\n",
    "print(model.summary())\n"
   ]
  },
  {
   "cell_type": "code",
   "execution_count": 76,
   "metadata": {},
   "outputs": [
    {
     "name": "stdout",
     "output_type": "stream",
     "text": [
      "                            OLS Regression Results                            \n",
      "==============================================================================\n",
      "Dep. Variable:                      y   R-squared:                       0.030\n",
      "Model:                            OLS   Adj. R-squared:                  0.030\n",
      "Method:                 Least Squares   F-statistic:                     303.5\n",
      "Date:                Tue, 08 Nov 2022   Prob (F-statistic):          4.39e-194\n",
      "Time:                        10:19:15   Log-Likelihood:            -2.4359e+05\n",
      "No. Observations:               29452   AIC:                         4.872e+05\n",
      "Df Residuals:                   29448   BIC:                         4.872e+05\n",
      "Df Model:                           3                                         \n",
      "Covariance Type:            nonrobust                                         \n",
      "==============================================================================\n",
      "                 coef    std err          t      P>|t|      [0.025      0.975]\n",
      "------------------------------------------------------------------------------\n",
      "Intercept    203.6504      9.330     21.828      0.000     185.364     221.937\n",
      "x[0]           0.0684      0.002     29.111      0.000       0.064       0.073\n",
      "x[1]          90.9323     27.554      3.300      0.001      36.926     144.939\n",
      "x[2]          75.2581     11.468      6.563      0.000      52.781      97.735\n",
      "==============================================================================\n",
      "Omnibus:                    96542.725   Durbin-Watson:                   1.969\n",
      "Prob(Omnibus):                  0.000   Jarque-Bera (JB):      34781066086.907\n",
      "Skew:                          55.852   Prob(JB):                         0.00\n",
      "Kurtosis:                    5325.603   Cond. No.                     1.68e+04\n",
      "==============================================================================\n",
      "\n",
      "Notes:\n",
      "[1] Standard Errors assume that the covariance matrix of the errors is correctly specified.\n",
      "[2] The condition number is large, 1.68e+04. This might indicate that there are\n",
      "strong multicollinearity or other numerical problems.\n"
     ]
    }
   ],
   "source": [
    "y=red1['revenue']\n",
    "x=red1[['previous_order_amount','engaged_last_30_1.0','gender_Unknown']]\n",
    "model1=ols('y~x',red1).fit()\n",
    "print(model1.summary())"
   ]
  },
  {
   "cell_type": "code",
   "execution_count": 77,
   "metadata": {},
   "outputs": [
    {
     "name": "stdout",
     "output_type": "stream",
     "text": [
      "945.7252024320377\n",
      "355.89392768217226\n"
     ]
    }
   ],
   "source": [
    "from sklearn.linear_model import LinearRegression\n",
    "model=LinearRegression()\n",
    "y=red1['revenue']\n",
    "x=red1[['previous_order_amount','engaged_last_30_1.0','gender_Unknown']]\n",
    "model.fit(x,y)\n",
    "#模型评分\n",
    "score=model.score(x,y)\n",
    "#计算y的预测值\n",
    "predictions=model.predict(x)\n",
    "#计算误差\n",
    "error=predictions-y\n",
    "#计算rmse\n",
    "rmse=(error**2).mean()**0.5\n",
    "#计算mae\n",
    "mae=abs(error).mean()\n",
    "print(rmse)\n",
    "print(mae)"
   ]
  }
 ],
 "metadata": {
  "kernelspec": {
   "display_name": "Python 3.8.8 ('base')",
   "language": "python",
   "name": "python3"
  },
  "language_info": {
   "codemirror_mode": {
    "name": "ipython",
    "version": 3
   },
   "file_extension": ".py",
   "mimetype": "text/x-python",
   "name": "python",
   "nbconvert_exporter": "python",
   "pygments_lexer": "ipython3",
   "version": "3.8.8"
  },
  "orig_nbformat": 4,
  "vscode": {
   "interpreter": {
    "hash": "5179d32cf6ec497baf3f8a3ef987cc77c5d2dc691fdde20a56316522f61a7323"
   }
  }
 },
 "nbformat": 4,
 "nbformat_minor": 2
}
